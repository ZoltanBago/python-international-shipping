{
 "cells": [
  {
   "cell_type": "markdown",
   "id": "8076cc5a-ac3e-4f52-857f-e7c077c87590",
   "metadata": {},
   "source": [
    "# Python Pandas Projektek | Nemzetközi szállítási adatok elemzése\n",
    "---\n",
    "\n",
    "![](logistics.jpg)\n",
    "\n",
    "*Kép forrása: pixabay*"
   ]
  },
  {
   "cell_type": "markdown",
   "id": "ee9b45ce",
   "metadata": {},
   "source": [
    "## 1. Az adatok betöltése és az alapadatok megjelenítése"
   ]
  },
  {
   "cell_type": "markdown",
   "id": "ccd9f44c",
   "metadata": {},
   "source": [
    "### 1.1. Az adatok betöltése Pandas DataFrame-be\n",
    "A `szallitas.csv` nevű fájl adatait betöltjük a Pandas DataFrame-be. \n",
    "\n",
    "Létrehozunk egy változót `szallitas` néven és megjelenítjük az adatkeretet. "
   ]
  },
  {
   "cell_type": "code",
   "execution_count": 1,
   "id": "ff2d3215",
   "metadata": {},
   "outputs": [
    {
     "data": {
      "text/html": [
       "<div>\n",
       "<style scoped>\n",
       "    .dataframe tbody tr th:only-of-type {\n",
       "        vertical-align: middle;\n",
       "    }\n",
       "\n",
       "    .dataframe tbody tr th {\n",
       "        vertical-align: top;\n",
       "    }\n",
       "\n",
       "    .dataframe thead th {\n",
       "        text-align: right;\n",
       "    }\n",
       "</style>\n",
       "<table border=\"1\" class=\"dataframe\">\n",
       "  <thead>\n",
       "    <tr style=\"text-align: right;\">\n",
       "      <th></th>\n",
       "      <th>azonosito</th>\n",
       "      <th>felado_orszag</th>\n",
       "      <th>címzett_orszag</th>\n",
       "      <th>termek_kategoria</th>\n",
       "      <th>suly_kg</th>\n",
       "      <th>szallitasi_ido_nap</th>\n",
       "    </tr>\n",
       "  </thead>\n",
       "  <tbody>\n",
       "    <tr>\n",
       "      <th>0</th>\n",
       "      <td>101</td>\n",
       "      <td>Kína</td>\n",
       "      <td>Magyarország</td>\n",
       "      <td>Elektronika</td>\n",
       "      <td>5.2</td>\n",
       "      <td>14</td>\n",
       "    </tr>\n",
       "    <tr>\n",
       "      <th>1</th>\n",
       "      <td>102</td>\n",
       "      <td>Németország</td>\n",
       "      <td>Magyarország</td>\n",
       "      <td>Ruházat</td>\n",
       "      <td>1.5</td>\n",
       "      <td>4</td>\n",
       "    </tr>\n",
       "    <tr>\n",
       "      <th>2</th>\n",
       "      <td>103</td>\n",
       "      <td>USA</td>\n",
       "      <td>Franciaország</td>\n",
       "      <td>Elektronika</td>\n",
       "      <td>12.8</td>\n",
       "      <td>21</td>\n",
       "    </tr>\n",
       "    <tr>\n",
       "      <th>3</th>\n",
       "      <td>104</td>\n",
       "      <td>Kína</td>\n",
       "      <td>USA</td>\n",
       "      <td>Ruházat</td>\n",
       "      <td>3.1</td>\n",
       "      <td>18</td>\n",
       "    </tr>\n",
       "    <tr>\n",
       "      <th>4</th>\n",
       "      <td>105</td>\n",
       "      <td>Németország</td>\n",
       "      <td>Olaszország</td>\n",
       "      <td>Élelmiszer</td>\n",
       "      <td>8.7</td>\n",
       "      <td>6</td>\n",
       "    </tr>\n",
       "    <tr>\n",
       "      <th>5</th>\n",
       "      <td>106</td>\n",
       "      <td>Kína</td>\n",
       "      <td>Magyarország</td>\n",
       "      <td>Elektronika</td>\n",
       "      <td>25.4</td>\n",
       "      <td>16</td>\n",
       "    </tr>\n",
       "    <tr>\n",
       "      <th>6</th>\n",
       "      <td>107</td>\n",
       "      <td>USA</td>\n",
       "      <td>Magyarország</td>\n",
       "      <td>Ruházat</td>\n",
       "      <td>4.0</td>\n",
       "      <td>10</td>\n",
       "    </tr>\n",
       "    <tr>\n",
       "      <th>7</th>\n",
       "      <td>108</td>\n",
       "      <td>Franciaország</td>\n",
       "      <td>USA</td>\n",
       "      <td>Élelmiszer</td>\n",
       "      <td>7.5</td>\n",
       "      <td>12</td>\n",
       "    </tr>\n",
       "  </tbody>\n",
       "</table>\n",
       "</div>"
      ],
      "text/plain": [
       "   azonosito  felado_orszag címzett_orszag termek_kategoria  suly_kg  \\\n",
       "0        101           Kína   Magyarország      Elektronika      5.2   \n",
       "1        102    Németország   Magyarország          Ruházat      1.5   \n",
       "2        103            USA  Franciaország      Elektronika     12.8   \n",
       "3        104           Kína            USA          Ruházat      3.1   \n",
       "4        105    Németország    Olaszország       Élelmiszer      8.7   \n",
       "5        106           Kína   Magyarország      Elektronika     25.4   \n",
       "6        107            USA   Magyarország          Ruházat      4.0   \n",
       "7        108  Franciaország            USA       Élelmiszer      7.5   \n",
       "\n",
       "   szallitasi_ido_nap  \n",
       "0                  14  \n",
       "1                   4  \n",
       "2                  21  \n",
       "3                  18  \n",
       "4                   6  \n",
       "5                  16  \n",
       "6                  10  \n",
       "7                  12  "
      ]
     },
     "execution_count": 1,
     "metadata": {},
     "output_type": "execute_result"
    }
   ],
   "source": [
    "import pandas as pd\n",
    "\n",
    "szallitas = pd.read_csv(\"szallitas.csv\")\n",
    "\n",
    "szallitas"
   ]
  },
  {
   "cell_type": "markdown",
   "id": "b7a230ed",
   "metadata": {},
   "source": [
    "### 1.2. Az adatkeret első 5 sorának megjelenítése"
   ]
  },
  {
   "cell_type": "code",
   "execution_count": 2,
   "id": "3fe7d1ab",
   "metadata": {},
   "outputs": [
    {
     "data": {
      "text/html": [
       "<div>\n",
       "<style scoped>\n",
       "    .dataframe tbody tr th:only-of-type {\n",
       "        vertical-align: middle;\n",
       "    }\n",
       "\n",
       "    .dataframe tbody tr th {\n",
       "        vertical-align: top;\n",
       "    }\n",
       "\n",
       "    .dataframe thead th {\n",
       "        text-align: right;\n",
       "    }\n",
       "</style>\n",
       "<table border=\"1\" class=\"dataframe\">\n",
       "  <thead>\n",
       "    <tr style=\"text-align: right;\">\n",
       "      <th></th>\n",
       "      <th>azonosito</th>\n",
       "      <th>felado_orszag</th>\n",
       "      <th>címzett_orszag</th>\n",
       "      <th>termek_kategoria</th>\n",
       "      <th>suly_kg</th>\n",
       "      <th>szallitasi_ido_nap</th>\n",
       "    </tr>\n",
       "  </thead>\n",
       "  <tbody>\n",
       "    <tr>\n",
       "      <th>0</th>\n",
       "      <td>101</td>\n",
       "      <td>Kína</td>\n",
       "      <td>Magyarország</td>\n",
       "      <td>Elektronika</td>\n",
       "      <td>5.2</td>\n",
       "      <td>14</td>\n",
       "    </tr>\n",
       "    <tr>\n",
       "      <th>1</th>\n",
       "      <td>102</td>\n",
       "      <td>Németország</td>\n",
       "      <td>Magyarország</td>\n",
       "      <td>Ruházat</td>\n",
       "      <td>1.5</td>\n",
       "      <td>4</td>\n",
       "    </tr>\n",
       "    <tr>\n",
       "      <th>2</th>\n",
       "      <td>103</td>\n",
       "      <td>USA</td>\n",
       "      <td>Franciaország</td>\n",
       "      <td>Elektronika</td>\n",
       "      <td>12.8</td>\n",
       "      <td>21</td>\n",
       "    </tr>\n",
       "    <tr>\n",
       "      <th>3</th>\n",
       "      <td>104</td>\n",
       "      <td>Kína</td>\n",
       "      <td>USA</td>\n",
       "      <td>Ruházat</td>\n",
       "      <td>3.1</td>\n",
       "      <td>18</td>\n",
       "    </tr>\n",
       "    <tr>\n",
       "      <th>4</th>\n",
       "      <td>105</td>\n",
       "      <td>Németország</td>\n",
       "      <td>Olaszország</td>\n",
       "      <td>Élelmiszer</td>\n",
       "      <td>8.7</td>\n",
       "      <td>6</td>\n",
       "    </tr>\n",
       "  </tbody>\n",
       "</table>\n",
       "</div>"
      ],
      "text/plain": [
       "   azonosito felado_orszag címzett_orszag termek_kategoria  suly_kg  \\\n",
       "0        101          Kína   Magyarország      Elektronika      5.2   \n",
       "1        102   Németország   Magyarország          Ruházat      1.5   \n",
       "2        103           USA  Franciaország      Elektronika     12.8   \n",
       "3        104          Kína            USA          Ruházat      3.1   \n",
       "4        105   Németország    Olaszország       Élelmiszer      8.7   \n",
       "\n",
       "   szallitasi_ido_nap  \n",
       "0                  14  \n",
       "1                   4  \n",
       "2                  21  \n",
       "3                  18  \n",
       "4                   6  "
      ]
     },
     "execution_count": 2,
     "metadata": {},
     "output_type": "execute_result"
    }
   ],
   "source": [
    "szallitas.head()"
   ]
  },
  {
   "cell_type": "markdown",
   "id": "3570b32f",
   "metadata": {},
   "source": [
    "### 1.3. A hiányzó adatok (NaN) ellenőrzése"
   ]
  },
  {
   "cell_type": "code",
   "execution_count": 3,
   "id": "5cca46be",
   "metadata": {},
   "outputs": [
    {
     "name": "stdout",
     "output_type": "stream",
     "text": [
      "<class 'pandas.core.frame.DataFrame'>\n",
      "RangeIndex: 8 entries, 0 to 7\n",
      "Data columns (total 6 columns):\n",
      " #   Column              Non-Null Count  Dtype  \n",
      "---  ------              --------------  -----  \n",
      " 0   azonosito           8 non-null      int64  \n",
      " 1   felado_orszag       8 non-null      object \n",
      " 2   címzett_orszag      8 non-null      object \n",
      " 3   termek_kategoria    8 non-null      object \n",
      " 4   suly_kg             8 non-null      float64\n",
      " 5   szallitasi_ido_nap  8 non-null      int64  \n",
      "dtypes: float64(1), int64(2), object(3)\n",
      "memory usage: 516.0+ bytes\n"
     ]
    }
   ],
   "source": [
    "szallitas.info()"
   ]
  },
  {
   "cell_type": "markdown",
   "id": "9740474e",
   "metadata": {},
   "source": [
    "## 2. Az adatok szűrése"
   ]
  },
  {
   "cell_type": "markdown",
   "id": "3bdfe7b1",
   "metadata": {},
   "source": [
    "### 2.1. Az összes szállítmány kiválasztása, amely Magyarországra érkezett"
   ]
  },
  {
   "cell_type": "code",
   "execution_count": 4,
   "id": "169040ec",
   "metadata": {},
   "outputs": [
    {
     "data": {
      "text/html": [
       "<div>\n",
       "<style scoped>\n",
       "    .dataframe tbody tr th:only-of-type {\n",
       "        vertical-align: middle;\n",
       "    }\n",
       "\n",
       "    .dataframe tbody tr th {\n",
       "        vertical-align: top;\n",
       "    }\n",
       "\n",
       "    .dataframe thead th {\n",
       "        text-align: right;\n",
       "    }\n",
       "</style>\n",
       "<table border=\"1\" class=\"dataframe\">\n",
       "  <thead>\n",
       "    <tr style=\"text-align: right;\">\n",
       "      <th></th>\n",
       "      <th>azonosito</th>\n",
       "      <th>felado_orszag</th>\n",
       "      <th>címzett_orszag</th>\n",
       "      <th>termek_kategoria</th>\n",
       "      <th>suly_kg</th>\n",
       "      <th>szallitasi_ido_nap</th>\n",
       "    </tr>\n",
       "  </thead>\n",
       "  <tbody>\n",
       "    <tr>\n",
       "      <th>0</th>\n",
       "      <td>101</td>\n",
       "      <td>Kína</td>\n",
       "      <td>Magyarország</td>\n",
       "      <td>Elektronika</td>\n",
       "      <td>5.2</td>\n",
       "      <td>14</td>\n",
       "    </tr>\n",
       "    <tr>\n",
       "      <th>1</th>\n",
       "      <td>102</td>\n",
       "      <td>Németország</td>\n",
       "      <td>Magyarország</td>\n",
       "      <td>Ruházat</td>\n",
       "      <td>1.5</td>\n",
       "      <td>4</td>\n",
       "    </tr>\n",
       "    <tr>\n",
       "      <th>5</th>\n",
       "      <td>106</td>\n",
       "      <td>Kína</td>\n",
       "      <td>Magyarország</td>\n",
       "      <td>Elektronika</td>\n",
       "      <td>25.4</td>\n",
       "      <td>16</td>\n",
       "    </tr>\n",
       "    <tr>\n",
       "      <th>6</th>\n",
       "      <td>107</td>\n",
       "      <td>USA</td>\n",
       "      <td>Magyarország</td>\n",
       "      <td>Ruházat</td>\n",
       "      <td>4.0</td>\n",
       "      <td>10</td>\n",
       "    </tr>\n",
       "  </tbody>\n",
       "</table>\n",
       "</div>"
      ],
      "text/plain": [
       "   azonosito felado_orszag címzett_orszag termek_kategoria  suly_kg  \\\n",
       "0        101          Kína   Magyarország      Elektronika      5.2   \n",
       "1        102   Németország   Magyarország          Ruházat      1.5   \n",
       "5        106          Kína   Magyarország      Elektronika     25.4   \n",
       "6        107           USA   Magyarország          Ruházat      4.0   \n",
       "\n",
       "   szallitasi_ido_nap  \n",
       "0                  14  \n",
       "1                   4  \n",
       "5                  16  \n",
       "6                  10  "
      ]
     },
     "execution_count": 4,
     "metadata": {},
     "output_type": "execute_result"
    }
   ],
   "source": [
    "szallitas[szallitas[\"címzett_orszag\"] == \"Magyarország\"]"
   ]
  },
  {
   "cell_type": "markdown",
   "id": "9e0b63fa",
   "metadata": {},
   "source": [
    "### 2.2. A több, mint 10 kg súlyú szállítmányok kiszűrése"
   ]
  },
  {
   "cell_type": "code",
   "execution_count": 5,
   "id": "5f5afab5",
   "metadata": {},
   "outputs": [
    {
     "data": {
      "text/html": [
       "<div>\n",
       "<style scoped>\n",
       "    .dataframe tbody tr th:only-of-type {\n",
       "        vertical-align: middle;\n",
       "    }\n",
       "\n",
       "    .dataframe tbody tr th {\n",
       "        vertical-align: top;\n",
       "    }\n",
       "\n",
       "    .dataframe thead th {\n",
       "        text-align: right;\n",
       "    }\n",
       "</style>\n",
       "<table border=\"1\" class=\"dataframe\">\n",
       "  <thead>\n",
       "    <tr style=\"text-align: right;\">\n",
       "      <th></th>\n",
       "      <th>azonosito</th>\n",
       "      <th>felado_orszag</th>\n",
       "      <th>címzett_orszag</th>\n",
       "      <th>termek_kategoria</th>\n",
       "      <th>suly_kg</th>\n",
       "      <th>szallitasi_ido_nap</th>\n",
       "    </tr>\n",
       "  </thead>\n",
       "  <tbody>\n",
       "    <tr>\n",
       "      <th>2</th>\n",
       "      <td>103</td>\n",
       "      <td>USA</td>\n",
       "      <td>Franciaország</td>\n",
       "      <td>Elektronika</td>\n",
       "      <td>12.8</td>\n",
       "      <td>21</td>\n",
       "    </tr>\n",
       "    <tr>\n",
       "      <th>5</th>\n",
       "      <td>106</td>\n",
       "      <td>Kína</td>\n",
       "      <td>Magyarország</td>\n",
       "      <td>Elektronika</td>\n",
       "      <td>25.4</td>\n",
       "      <td>16</td>\n",
       "    </tr>\n",
       "  </tbody>\n",
       "</table>\n",
       "</div>"
      ],
      "text/plain": [
       "   azonosito felado_orszag címzett_orszag termek_kategoria  suly_kg  \\\n",
       "2        103           USA  Franciaország      Elektronika     12.8   \n",
       "5        106          Kína   Magyarország      Elektronika     25.4   \n",
       "\n",
       "   szallitasi_ido_nap  \n",
       "2                  21  \n",
       "5                  16  "
      ]
     },
     "execution_count": 5,
     "metadata": {},
     "output_type": "execute_result"
    }
   ],
   "source": [
    "szallitas[szallitas[\"suly_kg\"] > 10]"
   ]
  },
  {
   "cell_type": "markdown",
   "id": "a9fe25c3",
   "metadata": {},
   "source": [
    "### 2.3. A Kínából induló, `Elektronika` kategóriájú szállítmányok megjelenítése"
   ]
  },
  {
   "cell_type": "code",
   "execution_count": 6,
   "id": "07104e81",
   "metadata": {},
   "outputs": [
    {
     "data": {
      "text/html": [
       "<div>\n",
       "<style scoped>\n",
       "    .dataframe tbody tr th:only-of-type {\n",
       "        vertical-align: middle;\n",
       "    }\n",
       "\n",
       "    .dataframe tbody tr th {\n",
       "        vertical-align: top;\n",
       "    }\n",
       "\n",
       "    .dataframe thead th {\n",
       "        text-align: right;\n",
       "    }\n",
       "</style>\n",
       "<table border=\"1\" class=\"dataframe\">\n",
       "  <thead>\n",
       "    <tr style=\"text-align: right;\">\n",
       "      <th></th>\n",
       "      <th>azonosito</th>\n",
       "      <th>felado_orszag</th>\n",
       "      <th>címzett_orszag</th>\n",
       "      <th>termek_kategoria</th>\n",
       "      <th>suly_kg</th>\n",
       "      <th>szallitasi_ido_nap</th>\n",
       "    </tr>\n",
       "  </thead>\n",
       "  <tbody>\n",
       "    <tr>\n",
       "      <th>0</th>\n",
       "      <td>101</td>\n",
       "      <td>Kína</td>\n",
       "      <td>Magyarország</td>\n",
       "      <td>Elektronika</td>\n",
       "      <td>5.2</td>\n",
       "      <td>14</td>\n",
       "    </tr>\n",
       "    <tr>\n",
       "      <th>5</th>\n",
       "      <td>106</td>\n",
       "      <td>Kína</td>\n",
       "      <td>Magyarország</td>\n",
       "      <td>Elektronika</td>\n",
       "      <td>25.4</td>\n",
       "      <td>16</td>\n",
       "    </tr>\n",
       "  </tbody>\n",
       "</table>\n",
       "</div>"
      ],
      "text/plain": [
       "   azonosito felado_orszag címzett_orszag termek_kategoria  suly_kg  \\\n",
       "0        101          Kína   Magyarország      Elektronika      5.2   \n",
       "5        106          Kína   Magyarország      Elektronika     25.4   \n",
       "\n",
       "   szallitasi_ido_nap  \n",
       "0                  14  \n",
       "5                  16  "
      ]
     },
     "execution_count": 6,
     "metadata": {},
     "output_type": "execute_result"
    }
   ],
   "source": [
    "szallitas[(szallitas[\"felado_orszag\"] == \"Kína\") & (szallitas[\"termek_kategoria\"] == \"Elektronika\")]"
   ]
  },
  {
   "cell_type": "markdown",
   "id": "a9225879",
   "metadata": {},
   "source": [
    "## 3. Csoportosítás és aggregáció"
   ]
  },
  {
   "cell_type": "markdown",
   "id": "71c99543",
   "metadata": {},
   "source": [
    "### 3.1. A szállítmány megjelenítése ország és mennyiség szerint\n",
    "Ebben az esetben ki kell számítani, hogy melyik országból mennyi szállítmány érkezett. \n",
    "\n",
    "Ehhez elöször csoportosítani kell az országokat a `gropby()` metódussal a `címzett_orszag` oszlop szerint.\n",
    "\n",
    "Ezután az `azonosito` alapján a `count()` metódus segítségével meg kell számolni az elemeket."
   ]
  },
  {
   "cell_type": "code",
   "execution_count": 7,
   "id": "18e60d9a",
   "metadata": {},
   "outputs": [
    {
     "data": {
      "text/plain": [
       "címzett_orszag\n",
       "Franciaország    1\n",
       "Magyarország     4\n",
       "Olaszország      1\n",
       "USA              2\n",
       "Name: azonosito, dtype: int64"
      ]
     },
     "execution_count": 7,
     "metadata": {},
     "output_type": "execute_result"
    }
   ],
   "source": [
    "szallitas.groupby(\"címzett_orszag\")[\"azonosito\"].count()"
   ]
  },
  {
   "cell_type": "markdown",
   "id": "dd00d6ff",
   "metadata": {},
   "source": [
    "**A kimenet:**\n",
    "\n",
    "    címzett_orszag\n",
    "    Franciaország    1\n",
    "    Magyarország     4\n",
    "    Olaszország      1\n",
    "    USA              2\n",
    "    Name: azonosito, dtype: int64"
   ]
  },
  {
   "cell_type": "markdown",
   "id": "05a94d86",
   "metadata": {},
   "source": [
    "### 3.2. Az átlagos szállítási idő meghatározása a termék kategória szerint"
   ]
  },
  {
   "cell_type": "code",
   "execution_count": 8,
   "id": "742c3593",
   "metadata": {},
   "outputs": [
    {
     "data": {
      "text/plain": [
       "termek_kategoria\n",
       "Elektronika    17.000000\n",
       "Ruházat        10.666667\n",
       "Élelmiszer      9.000000\n",
       "Name: szallitasi_ido_nap, dtype: float64"
      ]
     },
     "execution_count": 8,
     "metadata": {},
     "output_type": "execute_result"
    }
   ],
   "source": [
    "szallitas.groupby(\"termek_kategoria\")[\"szallitasi_ido_nap\"].mean()"
   ]
  },
  {
   "cell_type": "markdown",
   "id": "2fb9fc32",
   "metadata": {},
   "source": [
    "**A kimenet:**\n",
    "\n",
    "    termek_kategoria\n",
    "    Elektronika    17.000000\n",
    "    Ruházat        10.666667\n",
    "    Élelmiszer      9.000000\n",
    "    Name: szallitasi_ido_nap, dtype: float64"
   ]
  },
  {
   "cell_type": "markdown",
   "id": "b09359ae",
   "metadata": {},
   "source": [
    "### 3.3. Az egyes feladó országokból indított szállítmányok teljes súlya"
   ]
  },
  {
   "cell_type": "code",
   "execution_count": 9,
   "id": "f1830b80",
   "metadata": {},
   "outputs": [
    {
     "data": {
      "text/plain": [
       "felado_orszag\n",
       "Franciaország     7.5\n",
       "Kína             33.7\n",
       "Németország      10.2\n",
       "USA              16.8\n",
       "Name: suly_kg, dtype: float64"
      ]
     },
     "execution_count": 9,
     "metadata": {},
     "output_type": "execute_result"
    }
   ],
   "source": [
    "szallitas.groupby(\"felado_orszag\")[\"suly_kg\"].sum()"
   ]
  },
  {
   "cell_type": "markdown",
   "id": "e197fe90",
   "metadata": {},
   "source": [
    "**A kimenet:**\n",
    "\n",
    "    felado_orszag\n",
    "    Franciaország     7.5\n",
    "    Kína             33.7\n",
    "    Németország      10.2\n",
    "    USA              16.8\n",
    "    Name: suly_kg, dtype: float64"
   ]
  },
  {
   "cell_type": "markdown",
   "id": "c7b4a60c",
   "metadata": {},
   "source": [
    "## 4. Új oszlop hozzáadása és adatmanipuláció"
   ]
  },
  {
   "cell_type": "markdown",
   "id": "fa6622cd",
   "metadata": {},
   "source": [
    "### 4.1. Új oszlop létrehozása `suly_lb` néven, amely a súlyt kilogrammból fontba konvertálja\n",
    "Létrehozzuk a DataFrame egy új oszlopát úgy, hogy megadjuk a nevét szögletes zárójelben, majd hozzárendeljük az értékeit.\n",
    "\n",
    "> 1 kg = 2.20462 lb"
   ]
  },
  {
   "cell_type": "code",
   "execution_count": 10,
   "id": "8b72a861",
   "metadata": {},
   "outputs": [],
   "source": [
    "szallitas[\"suly_lb\"] = szallitas[\"suly_kg\"] * 2.20462"
   ]
  },
  {
   "cell_type": "markdown",
   "id": "0ba5ec4f",
   "metadata": {},
   "source": [
    "Nézzük meg az új oszlopot a `head()` metódussal."
   ]
  },
  {
   "cell_type": "code",
   "execution_count": 11,
   "id": "b1233699",
   "metadata": {},
   "outputs": [
    {
     "data": {
      "text/html": [
       "<div>\n",
       "<style scoped>\n",
       "    .dataframe tbody tr th:only-of-type {\n",
       "        vertical-align: middle;\n",
       "    }\n",
       "\n",
       "    .dataframe tbody tr th {\n",
       "        vertical-align: top;\n",
       "    }\n",
       "\n",
       "    .dataframe thead th {\n",
       "        text-align: right;\n",
       "    }\n",
       "</style>\n",
       "<table border=\"1\" class=\"dataframe\">\n",
       "  <thead>\n",
       "    <tr style=\"text-align: right;\">\n",
       "      <th></th>\n",
       "      <th>azonosito</th>\n",
       "      <th>felado_orszag</th>\n",
       "      <th>címzett_orszag</th>\n",
       "      <th>termek_kategoria</th>\n",
       "      <th>suly_kg</th>\n",
       "      <th>szallitasi_ido_nap</th>\n",
       "      <th>suly_lb</th>\n",
       "    </tr>\n",
       "  </thead>\n",
       "  <tbody>\n",
       "    <tr>\n",
       "      <th>0</th>\n",
       "      <td>101</td>\n",
       "      <td>Kína</td>\n",
       "      <td>Magyarország</td>\n",
       "      <td>Elektronika</td>\n",
       "      <td>5.2</td>\n",
       "      <td>14</td>\n",
       "      <td>11.464024</td>\n",
       "    </tr>\n",
       "    <tr>\n",
       "      <th>1</th>\n",
       "      <td>102</td>\n",
       "      <td>Németország</td>\n",
       "      <td>Magyarország</td>\n",
       "      <td>Ruházat</td>\n",
       "      <td>1.5</td>\n",
       "      <td>4</td>\n",
       "      <td>3.306930</td>\n",
       "    </tr>\n",
       "    <tr>\n",
       "      <th>2</th>\n",
       "      <td>103</td>\n",
       "      <td>USA</td>\n",
       "      <td>Franciaország</td>\n",
       "      <td>Elektronika</td>\n",
       "      <td>12.8</td>\n",
       "      <td>21</td>\n",
       "      <td>28.219136</td>\n",
       "    </tr>\n",
       "    <tr>\n",
       "      <th>3</th>\n",
       "      <td>104</td>\n",
       "      <td>Kína</td>\n",
       "      <td>USA</td>\n",
       "      <td>Ruházat</td>\n",
       "      <td>3.1</td>\n",
       "      <td>18</td>\n",
       "      <td>6.834322</td>\n",
       "    </tr>\n",
       "    <tr>\n",
       "      <th>4</th>\n",
       "      <td>105</td>\n",
       "      <td>Németország</td>\n",
       "      <td>Olaszország</td>\n",
       "      <td>Élelmiszer</td>\n",
       "      <td>8.7</td>\n",
       "      <td>6</td>\n",
       "      <td>19.180194</td>\n",
       "    </tr>\n",
       "  </tbody>\n",
       "</table>\n",
       "</div>"
      ],
      "text/plain": [
       "   azonosito felado_orszag címzett_orszag termek_kategoria  suly_kg  \\\n",
       "0        101          Kína   Magyarország      Elektronika      5.2   \n",
       "1        102   Németország   Magyarország          Ruházat      1.5   \n",
       "2        103           USA  Franciaország      Elektronika     12.8   \n",
       "3        104          Kína            USA          Ruházat      3.1   \n",
       "4        105   Németország    Olaszország       Élelmiszer      8.7   \n",
       "\n",
       "   szallitasi_ido_nap    suly_lb  \n",
       "0                  14  11.464024  \n",
       "1                   4   3.306930  \n",
       "2                  21  28.219136  \n",
       "3                  18   6.834322  \n",
       "4                   6  19.180194  "
      ]
     },
     "execution_count": 11,
     "metadata": {},
     "output_type": "execute_result"
    }
   ],
   "source": [
    "szallitas.head()"
   ]
  },
  {
   "cell_type": "markdown",
   "id": "b65c1706-506e-4e14-bcd6-6d3acb773d52",
   "metadata": {},
   "source": [
    "### 4.2. Új oszlop létrehozása `gyors_szallitas` néven, ami True értéket ad, ha a `szallitasi_ido_nap` kisebb, mint 7 nap"
   ]
  },
  {
   "cell_type": "code",
   "execution_count": 12,
   "id": "3f097096-04b0-4d03-8008-d6d406adf954",
   "metadata": {},
   "outputs": [],
   "source": [
    "szallitas[\"gyors_szallitas\"] = szallitas[\"szallitasi_ido_nap\"] < 7 "
   ]
  },
  {
   "cell_type": "code",
   "execution_count": 13,
   "id": "01bc2558-a334-491f-b9ac-3fd1ec012c17",
   "metadata": {},
   "outputs": [
    {
     "data": {
      "text/html": [
       "<div>\n",
       "<style scoped>\n",
       "    .dataframe tbody tr th:only-of-type {\n",
       "        vertical-align: middle;\n",
       "    }\n",
       "\n",
       "    .dataframe tbody tr th {\n",
       "        vertical-align: top;\n",
       "    }\n",
       "\n",
       "    .dataframe thead th {\n",
       "        text-align: right;\n",
       "    }\n",
       "</style>\n",
       "<table border=\"1\" class=\"dataframe\">\n",
       "  <thead>\n",
       "    <tr style=\"text-align: right;\">\n",
       "      <th></th>\n",
       "      <th>azonosito</th>\n",
       "      <th>felado_orszag</th>\n",
       "      <th>címzett_orszag</th>\n",
       "      <th>termek_kategoria</th>\n",
       "      <th>suly_kg</th>\n",
       "      <th>szallitasi_ido_nap</th>\n",
       "      <th>suly_lb</th>\n",
       "      <th>gyors_szallitas</th>\n",
       "    </tr>\n",
       "  </thead>\n",
       "  <tbody>\n",
       "    <tr>\n",
       "      <th>0</th>\n",
       "      <td>101</td>\n",
       "      <td>Kína</td>\n",
       "      <td>Magyarország</td>\n",
       "      <td>Elektronika</td>\n",
       "      <td>5.2</td>\n",
       "      <td>14</td>\n",
       "      <td>11.464024</td>\n",
       "      <td>False</td>\n",
       "    </tr>\n",
       "    <tr>\n",
       "      <th>1</th>\n",
       "      <td>102</td>\n",
       "      <td>Németország</td>\n",
       "      <td>Magyarország</td>\n",
       "      <td>Ruházat</td>\n",
       "      <td>1.5</td>\n",
       "      <td>4</td>\n",
       "      <td>3.306930</td>\n",
       "      <td>True</td>\n",
       "    </tr>\n",
       "    <tr>\n",
       "      <th>2</th>\n",
       "      <td>103</td>\n",
       "      <td>USA</td>\n",
       "      <td>Franciaország</td>\n",
       "      <td>Elektronika</td>\n",
       "      <td>12.8</td>\n",
       "      <td>21</td>\n",
       "      <td>28.219136</td>\n",
       "      <td>False</td>\n",
       "    </tr>\n",
       "    <tr>\n",
       "      <th>3</th>\n",
       "      <td>104</td>\n",
       "      <td>Kína</td>\n",
       "      <td>USA</td>\n",
       "      <td>Ruházat</td>\n",
       "      <td>3.1</td>\n",
       "      <td>18</td>\n",
       "      <td>6.834322</td>\n",
       "      <td>False</td>\n",
       "    </tr>\n",
       "    <tr>\n",
       "      <th>4</th>\n",
       "      <td>105</td>\n",
       "      <td>Németország</td>\n",
       "      <td>Olaszország</td>\n",
       "      <td>Élelmiszer</td>\n",
       "      <td>8.7</td>\n",
       "      <td>6</td>\n",
       "      <td>19.180194</td>\n",
       "      <td>True</td>\n",
       "    </tr>\n",
       "  </tbody>\n",
       "</table>\n",
       "</div>"
      ],
      "text/plain": [
       "   azonosito felado_orszag címzett_orszag termek_kategoria  suly_kg  \\\n",
       "0        101          Kína   Magyarország      Elektronika      5.2   \n",
       "1        102   Németország   Magyarország          Ruházat      1.5   \n",
       "2        103           USA  Franciaország      Elektronika     12.8   \n",
       "3        104          Kína            USA          Ruházat      3.1   \n",
       "4        105   Németország    Olaszország       Élelmiszer      8.7   \n",
       "\n",
       "   szallitasi_ido_nap    suly_lb  gyors_szallitas  \n",
       "0                  14  11.464024            False  \n",
       "1                   4   3.306930             True  \n",
       "2                  21  28.219136            False  \n",
       "3                  18   6.834322            False  \n",
       "4                   6  19.180194             True  "
      ]
     },
     "execution_count": 13,
     "metadata": {},
     "output_type": "execute_result"
    }
   ],
   "source": [
    "szallitas.head()"
   ]
  },
  {
   "cell_type": "markdown",
   "id": "14a11fea",
   "metadata": {},
   "source": [
    "---"
   ]
  }
 ],
 "metadata": {
  "kernelspec": {
   "display_name": "Python 3 (ipykernel)",
   "language": "python",
   "name": "python3"
  },
  "language_info": {
   "codemirror_mode": {
    "name": "ipython",
    "version": 3
   },
   "file_extension": ".py",
   "mimetype": "text/x-python",
   "name": "python",
   "nbconvert_exporter": "python",
   "pygments_lexer": "ipython3",
   "version": "3.11.2"
  }
 },
 "nbformat": 4,
 "nbformat_minor": 5
}
